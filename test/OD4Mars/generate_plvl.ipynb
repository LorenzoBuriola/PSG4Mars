{
 "cells": [
  {
   "cell_type": "code",
   "execution_count": 1,
   "metadata": {},
   "outputs": [],
   "source": [
    "import numpy as np\n",
    "import pandas as pd\n",
    "import matplotlib.pyplot as plt"
   ]
  },
  {
   "cell_type": "code",
   "execution_count": 2,
   "metadata": {},
   "outputs": [],
   "source": [
    "import pypsg.cfg as cfg\n",
    "from pypsg.utils import name_file"
   ]
  },
  {
   "cell_type": "code",
   "execution_count": 3,
   "metadata": {},
   "outputs": [],
   "source": [
    "latitudes = np.linspace(-90, 90, 49)\n",
    "longitudes = np.linspace(0, 360, 65)[:-1]"
   ]
  },
  {
   "cell_type": "code",
   "execution_count": 4,
   "metadata": {},
   "outputs": [],
   "source": [
    "start_date = '2019-03-24'\n",
    "end_date = '2021-02-08'\n",
    "dates = pd.date_range(\n",
    "    start=start_date,\n",
    "    end=end_date,\n",
    "    periods=24,\n",
    "    unit='s'\n",
    ")"
   ]
  },
  {
   "cell_type": "code",
   "execution_count": 5,
   "metadata": {},
   "outputs": [],
   "source": [
    "dates_list = dates.strftime('%Y/%m/%d %H:%M').to_list()"
   ]
  },
  {
   "cell_type": "code",
   "execution_count": 6,
   "metadata": {},
   "outputs": [],
   "source": [
    "cfg_path = '../data/cfg/profiles/'"
   ]
  },
  {
   "cell_type": "code",
   "execution_count": 7,
   "metadata": {},
   "outputs": [],
   "source": [
    "p = []\n",
    "a = []\n",
    "for date in dates_list:\n",
    "    for lat in latitudes:\n",
    "        for long in longitudes:\n",
    "            temp_cfg = cfg.read_cfg(f\"{cfg_path}{name_file('cfg', date, lat, long)}.txt\")\n",
    "            temp_df = cfg.read_atm_layers(temp_cfg)\n",
    "            p.append(temp_df.Pressure)\n",
    "            a.append(temp_df.Altitude)\n"
   ]
  },
  {
   "cell_type": "code",
   "execution_count": 8,
   "metadata": {},
   "outputs": [],
   "source": [
    "p = np.asarray(p)\n",
    "a = np.asarray(a)\n",
    "a = np.where(a==0,1e-3,a)"
   ]
  },
  {
   "cell_type": "markdown",
   "metadata": {},
   "source": [
    "## Custom Edges"
   ]
  },
  {
   "cell_type": "code",
   "execution_count": 9,
   "metadata": {},
   "outputs": [],
   "source": [
    "def custom_edges(aa, nbin):\n",
    "    nn = len(aa)\n",
    "    return np.interp(np.linspace(0, nn, nbin + 1),\n",
    "                     np.arange(nn),\n",
    "                     np.sort(aa))"
   ]
  },
  {
   "cell_type": "code",
   "execution_count": 10,
   "metadata": {},
   "outputs": [],
   "source": [
    "pcut1 = 1e-8\n",
    "pcut2 = 1e-3\n",
    "pmin = p.min()"
   ]
  },
  {
   "cell_type": "code",
   "execution_count": 11,
   "metadata": {},
   "outputs": [],
   "source": [
    "p_med = p[np.logical_and(p>pcut1,p<pcut2)]\n",
    "e_med = custom_edges(p_med, 20)\n",
    "e_med = e_med[1:-1]"
   ]
  },
  {
   "cell_type": "code",
   "execution_count": 12,
   "metadata": {},
   "outputs": [],
   "source": [
    "p_high = p[p>=pcut2]\n",
    "e_high = custom_edges(p_high,30)"
   ]
  },
  {
   "cell_type": "code",
   "execution_count": 13,
   "metadata": {},
   "outputs": [],
   "source": [
    "p_low = p[p<=pcut1]\n",
    "e_low = custom_edges(p_low, 4)"
   ]
  },
  {
   "cell_type": "code",
   "execution_count": 14,
   "metadata": {},
   "outputs": [],
   "source": [
    "ee = np.concatenate([e_low, [pcut1],e_med,e_high])\n"
   ]
  },
  {
   "cell_type": "code",
   "execution_count": 15,
   "metadata": {},
   "outputs": [
    {
     "data": {
      "text/plain": [
       "(56,)"
      ]
     },
     "execution_count": 15,
     "metadata": {},
     "output_type": "execute_result"
    }
   ],
   "source": [
    "ee.shape"
   ]
  },
  {
   "cell_type": "code",
   "execution_count": 16,
   "metadata": {},
   "outputs": [
    {
     "data": {
      "text/plain": [
       "array([2.02230e-13, 3.32550e-12, 5.46870e-11, 8.99310e-10, 7.34390e-09,\n",
       "       1.00000e-08, 1.47890e-08, 2.97810e-08, 5.99720e-08, 1.20770e-07,\n",
       "       2.43200e-07, 4.89740e-07, 9.86220e-07, 1.98600e-06, 3.99930e-06,\n",
       "       8.03570e-06, 1.58980e-05, 3.05540e-05, 5.60120e-05, 9.02550e-05,\n",
       "       1.13960e-04, 2.05540e-04, 3.30773e-04, 5.01300e-04, 7.19660e-04,\n",
       "       1.00000e-03, 1.19130e-03, 1.38850e-03, 1.60640e-03, 1.85590e-03,\n",
       "       2.08660e-03, 2.35708e-03, 2.62270e-03, 2.87390e-03, 3.12750e-03,\n",
       "       3.36960e-03, 3.58660e-03, 3.79250e-03, 3.99270e-03, 4.18180e-03,\n",
       "       4.35290e-03, 4.51490e-03, 4.67210e-03, 4.82550e-03, 4.99180e-03,\n",
       "       5.17460e-03, 5.40678e-03, 5.71610e-03, 6.06790e-03, 6.42400e-03,\n",
       "       6.79640e-03, 7.17030e-03, 7.56410e-03, 8.04270e-03, 8.57040e-03,\n",
       "       1.32550e-02])"
      ]
     },
     "execution_count": 16,
     "metadata": {},
     "output_type": "execute_result"
    }
   ],
   "source": [
    "ee"
   ]
  },
  {
   "cell_type": "code",
   "execution_count": 31,
   "metadata": {},
   "outputs": [
    {
     "data": {
      "text/plain": [
       "(51,)"
      ]
     },
     "execution_count": 31,
     "metadata": {},
     "output_type": "execute_result"
    }
   ],
   "source": [
    "boh = np.digitize(p, ee)\n",
    "de = np.diff(ee)\n",
    "cnt = ee[:-1]+de/2\n",
    "cnt.shape"
   ]
  },
  {
   "cell_type": "code",
   "execution_count": 35,
   "metadata": {},
   "outputs": [],
   "source": [
    "boh = np.where(boh==52,51,boh)\n",
    "boh2 = cnt[boh-1]"
   ]
  },
  {
   "cell_type": "code",
   "execution_count": 36,
   "metadata": {},
   "outputs": [
    {
     "data": {
      "image/png": "[encoded data removed]",
      "text/plain": [
       "<Figure size 640x480 with 1 Axes>"
      ]
     },
     "metadata": {},
     "output_type": "display_data"
    }
   ],
   "source": [
    "plt.plot(boh, a, 'b.')\n",
    "plt.yscale('log')\n",
    "plt.show()"
   ]
  },
  {
   "cell_type": "code",
   "execution_count": 39,
   "metadata": {},
   "outputs": [
    {
     "data": {
      "image/png": "[encoded data removed]",
      "text/plain": [
       "<Figure size 640x480 with 1 Axes>"
      ]
     },
     "metadata": {},
     "output_type": "display_data"
    }
   ],
   "source": [
    "plt.plot(boh2, a, 'b.')\n",
    "plt.yscale('log')\n",
    "plt.hlines(y=10,xmin=1e-13,xmax=1.3e-2, color = 'k')\n",
    "plt.show()"
   ]
  },
  {
   "cell_type": "code",
   "execution_count": 17,
   "metadata": {},
   "outputs": [
    {
     "ename": "",
     "evalue": "",
     "output_type": "error",
     "traceback": [
      "\u001b[1;31mSi è verificato un arresto anomalo del Kernel durante l'esecuzione del codice nella cella attiva o in una cella precedente. \n",
      "\u001b[1;31mEsaminare il codice nelle celle per identificare una possibile causa dell'errore. \n",
      "\u001b[1;31mPer altre informazioni, fare clic<a href='https://aka.ms/vscodeJupyterKernelCrash'>qui</a>. \n",
      "\u001b[1;31mPer ulteriori dettagli, visualizzare Jupyter <a href='command:jupyter.viewOutput'>log</a>."
     ]
    }
   ],
   "source": [
    "np.save('p_edges.npy', ee)"
   ]
  },
  {
   "cell_type": "code",
   "execution_count": null,
   "metadata": {},
   "outputs": [],
   "source": []
  }
 ],
 "metadata": {
  "kernelspec": {
   "display_name": "base",
   "language": "python",
   "name": "python3"
  },
  "language_info": {
   "codemirror_mode": {
    "name": "ipython",
    "version": 3
   },
   "file_extension": ".py",
   "mimetype": "text/x-python",
   "name": "python",
   "nbconvert_exporter": "python",
   "pygments_lexer": "ipython3",
   "version": "3.12.2"
  }
 },
 "nbformat": 4,
 "nbformat_minor": 2
}
