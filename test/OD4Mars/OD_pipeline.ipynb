{
 "cells": [
  {
   "cell_type": "code",
   "execution_count": 1,
   "metadata": {},
   "outputs": [],
   "source": [
    "from py4Mars import *"
   ]
  },
  {
   "cell_type": "code",
   "execution_count": 2,
   "metadata": {},
   "outputs": [],
   "source": [
    "latitudes = np.linspace(-90, 90, 49)\n",
    "longitudes = np.linspace(0, 360, 65)[:-1]\n",
    "\n",
    "start_date = '2019-03-24'\n",
    "end_date = '2021-02-08'\n",
    "dates = pd.date_range(\n",
    "    start=start_date,\n",
    "    end=end_date,\n",
    "    periods=24,\n",
    "    unit='s'\n",
    ")"
   ]
  },
  {
   "cell_type": "code",
   "execution_count": 3,
   "metadata": {},
   "outputs": [],
   "source": [
    "ISPROF = True\n",
    "if not ISPROF:\n",
    "    generate_profiles(latitudes, longitudes, dates, \n",
    "                      opath='/home/buriola/PSG/PSG4Mars/data/cfg/profiles/',\n",
    "                      ipath='/home/buriola/PSG/PSG4Mars/data/cfg/')"
   ]
  },
  {
   "cell_type": "code",
   "execution_count": 4,
   "metadata": {},
   "outputs": [],
   "source": [
    "ISPLVL = True\n",
    "if not ISPLVL:\n",
    "    generate_p_levels(latitudes, longitudes, dates,\n",
    "                      ipath = '/home/buriola/PSG/PSG4Mars/data/cfg/profiles/')"
   ]
  },
  {
   "cell_type": "code",
   "execution_count": 5,
   "metadata": {},
   "outputs": [],
   "source": [
    "ISMEANPROF = False\n",
    "if not ISMEANPROF:\n",
    "    mean_prof = generate_mean_profiles(latitudes, longitudes, dates,\n",
    "                           ipath = '/home/buriola/PSG/PSG4Mars/data/cfg/profiles/',\n",
    "                           ofile=True,\n",
    "                           p_filename='p_edges.npy')\n",
    "else:\n",
    "    mean_prof = pd.read_csv('mean_profile.csv')"
   ]
  },
  {
   "cell_type": "code",
   "execution_count": 6,
   "metadata": {},
   "outputs": [],
   "source": [
    "write_mean_cfg(mean_prof,\n",
    "               opath = '/home/buriola/PSG/PSG4Mars/data/cfg/')"
   ]
  },
  {
   "cell_type": "code",
   "execution_count": 7,
   "metadata": {},
   "outputs": [],
   "source": [
    "gas_list = ['CO2','CO','H2O','O3','HCl', 'HDO']\n",
    "\n",
    "generate_OD_cfg(gas_list,\n",
    "                ipath = '/home/buriola/PSG/PSG4Mars/data/cfg/',\n",
    "                opath='/home/buriola/PSG/PSG4Mars/data/cfg/OD_gen/')"
   ]
  },
  {
   "cell_type": "code",
   "execution_count": null,
   "metadata": {},
   "outputs": [],
   "source": []
  }
 ],
 "metadata": {
  "kernelspec": {
   "display_name": "base",
   "language": "python",
   "name": "python3"
  },
  "language_info": {
   "codemirror_mode": {
    "name": "ipython",
    "version": 3
   },
   "file_extension": ".py",
   "mimetype": "text/x-python",
   "name": "python",
   "nbconvert_exporter": "python",
   "pygments_lexer": "ipython3",
   "version": "3.12.2"
  }
 },
 "nbformat": 4,
 "nbformat_minor": 2
}
