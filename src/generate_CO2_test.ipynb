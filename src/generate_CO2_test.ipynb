{
 "cells": [
  {
   "cell_type": "code",
   "execution_count": 1,
   "metadata": {},
   "outputs": [],
   "source": [
    "import cfg_io\n",
    "import run_psg\n",
    "import atm_obj"
   ]
  },
  {
   "cell_type": "code",
   "execution_count": 2,
   "metadata": {},
   "outputs": [
    {
     "name": "stdout",
     "output_type": "stream",
     "text": [
      "PSG is running at http://localhost:3000/api.php\n",
      "type = cfg\n",
      "Input file: /Users/Lorenzo/Documents/Dottorato/PSG/PSG4Mars/data/cfg/atmos_0_0_cfg.txt\n",
      "Output file: /Users/Lorenzo/Documents/Dottorato/PSG/PSG4Mars/data/cfg/atmos_0_0_cfg.txt\n"
     ]
    }
   ],
   "source": [
    "cfg = cfg_io.read_cfg(file_path='/Users/Lorenzo/Documents/Dottorato/PSG/PSG4Mars/data/cfg/psg_cfg.txt')\n",
    "\n",
    "#set latitude and longitude\n",
    "lat = 0\n",
    "long = 0\n",
    "cfg['OBJECT-OBS-LATITUDE'] = lat\n",
    "cfg['OBJECT-OBS-LONGITUDE'] = long\n",
    "\n",
    "cfg_io.dict_to_cfg(dictionary=cfg,file_path=f'/Users/Lorenzo/Documents/Dottorato/PSG/PSG4Mars/data/cfg/atmos_{lat}_{long}_cfg.txt')\n",
    "run_psg.run_psg(cfg_file=f'/Users/Lorenzo/Documents/Dottorato/PSG/PSG4Mars/data/cfg/atmos_{lat}_{long}_cfg.txt',\n",
    "                type='cfg', watm='y', \n",
    "                out_file=f'/Users/Lorenzo/Documents/Dottorato/PSG/PSG4Mars/data/cfg/atmos_{lat}_{long}_cfg.txt')"
   ]
  },
  {
   "cell_type": "code",
   "execution_count": 3,
   "metadata": {},
   "outputs": [],
   "source": [
    "cfg = cfg_io.read_cfg(file_path=f'/Users/Lorenzo/Documents/Dottorato/PSG/PSG4Mars/data/cfg/atmos_{lat}_{long}_cfg.txt')\n",
    "\n",
    "cfg['ATMOSPHERE-CONTINUUM'] = 'Refraction,Layering'\n",
    "\n",
    "#set spectral limits\n",
    "res = 1e-2\n",
    "cfg['GENERATOR-RANGE1'] = 650\n",
    "cfg['GENERATOR-RANGE2'] = 700\n",
    "cfg['GENERATOR-RESOLUTION'] = res\n",
    "\n",
    "cfg_io.dict_to_cfg(dictionary=cfg,file_path=f'/Users/Lorenzo/Documents/Dottorato/PSG/PSG4Mars/data/cfg/atmos_{lat}_{long}_{res}_cfg.txt')"
   ]
  },
  {
   "cell_type": "code",
   "execution_count": 4,
   "metadata": {},
   "outputs": [
    {
     "name": "stdout",
     "output_type": "stream",
     "text": [
      "PSG is running at http://localhost:3000/api.php\n",
      "type = lyr\n",
      "Input file: /Users/Lorenzo/Documents/Dottorato/PSG/PSG4Mars/data/cfg/atmos_0_0_0.01_cfg.txt\n",
      "Output file: ../data/lyr/atmos_0_0_0.01_lyr.txt\n",
      "PSG is running at http://localhost:3000/api.php\n",
      "type = lyo\n",
      "Input file: /Users/Lorenzo/Documents/Dottorato/PSG/PSG4Mars/data/cfg/atmos_0_0_0.01_cfg.txt\n",
      "Output file: ../data/lyo/atmos_0_0_0.01_lyo.txt\n"
     ]
    }
   ],
   "source": [
    "run_psg.run_psg(cfg_file=f'/Users/Lorenzo/Documents/Dottorato/PSG/PSG4Mars/data/cfg/atmos_{lat}_{long}_{res}_cfg.txt', \n",
    "                type='lyr', out_file=f'../data/lyr/atmos_{lat}_{long}_{res}_lyr.txt')\n",
    "run_psg.run_psg(cfg_file=f'/Users/Lorenzo/Documents/Dottorato/PSG/PSG4Mars/data/cfg/atmos_{lat}_{long}_{res}_cfg.txt',\n",
    "                type='lyo', out_file=f'../data/lyo/atmos_{lat}_{long}_{res}_lyo.txt')"
   ]
  },
  {
   "cell_type": "code",
   "execution_count": 7,
   "metadata": {},
   "outputs": [],
   "source": [
    "cfg = cfg_io.read_cfg(file_path=f'/Users/Lorenzo/Documents/Dottorato/PSG/PSG4Mars/data/cfg/atmos_{lat}_{long}_cfg.txt')\n",
    "\n",
    "gname = 'CO2'\n",
    "gg = atm_obj.gas(name=gname,abun=1,unit='scl')\n",
    "cfg['ATMOSPHERE-GAS'] = gg.name\n",
    "cfg['ATMOSPHERE-UNIT'] = gg.unit\n",
    "cfg['ATMOSPHERE-ABUN'] = gg.abun\n",
    "cfg['ATMOSPHERE-TYPE'] = gg.code\n",
    "cfg['ATMOSPHERE-NGAS'] = 1\n",
    "\n",
    "cfg['ATMOSPHERE-AEROS'] = ''\n",
    "cfg['ATMOSPHERE-AUNIT'] = ''\n",
    "cfg['ATMOSPHERE-AABUN'] = ''\n",
    "cfg['ATMOSPHERE-ASIZE'] = ''\n",
    "cfg['ATMOSPHERE-ASUNI'] = ''\n",
    "cfg['ATMOSPHERE-NAERO'] = 0\n",
    "cfg['ATMOSPHERE-ATYPE'] = ''\n",
    "\n",
    "cfg['ATMOSPHERE-CONTINUUM'] = 'Refraction,Layering'\n",
    "\n",
    "#set spectral limits\n",
    "res = 1e-2\n",
    "cfg['GENERATOR-RANGE1'] = 655\n",
    "cfg['GENERATOR-RANGE2'] = 660\n",
    "cfg['GENERATOR-RESOLUTION'] = res\n",
    "\n",
    "cfg_io.dict_to_cfg(dictionary=cfg,file_path=f'/Users/Lorenzo/Documents/Dottorato/PSG/PSG4Mars/data/cfg/{gname}_{lat}_{long}_{res}_cfg.txt')"
   ]
  },
  {
   "cell_type": "code",
   "execution_count": 8,
   "metadata": {},
   "outputs": [
    {
     "name": "stdout",
     "output_type": "stream",
     "text": [
      "PSG is running at http://localhost:3000/api.php\n",
      "type = lyr\n",
      "Input file: /Users/Lorenzo/Documents/Dottorato/PSG/PSG4Mars/data/cfg/CO2_0_0_0.01_cfg.txt\n",
      "Output file: ../data/lyr/CO2_0_0_0.01_lyr.txt\n",
      "PSG is running at http://localhost:3000/api.php\n",
      "type = lyo\n",
      "Input file: /Users/Lorenzo/Documents/Dottorato/PSG/PSG4Mars/data/cfg/CO2_0_0_0.01_cfg.txt\n",
      "Output file: ../data/lyo/CO2_0_0_0.01_lyo.txt\n"
     ]
    }
   ],
   "source": [
    "run_psg.run_psg(cfg_file=f'/Users/Lorenzo/Documents/Dottorato/PSG/PSG4Mars/data/cfg/{gname}_{lat}_{long}_{res}_cfg.txt', \n",
    "                type='lyr', out_file=f'../data/lyr/{gname}_{lat}_{long}_{res}_lyr.txt')\n",
    "run_psg.run_psg(cfg_file=f'/Users/Lorenzo/Documents/Dottorato/PSG/PSG4Mars/data/cfg/{gname}_{lat}_{long}_{res}_cfg.txt',\n",
    "                type='lyo', out_file=f'../data/lyo/{gname}_{lat}_{long}_{res}_lyo.txt')"
   ]
  },
  {
   "cell_type": "code",
   "execution_count": null,
   "metadata": {},
   "outputs": [],
   "source": [
    "cfg = cfg_io.read_cfg(file_path=f'/Users/Lorenzo/Documents/Dottorato/PSG/PSG4Mars/data/cfg/{gname}_{lat}_{long}_{res}_cfg.txt')\n",
    "\n",
    "#set spectral limits\n",
    "res = 1e-4\n",
    "cfg['GENERATOR-RANGE1'] = 650\n",
    "cfg['GENERATOR-RANGE2'] = 700\n",
    "cfg['GENERATOR-RESOLUTION'] = res\n",
    "\n",
    "cfg_io.dict_to_cfg(dictionary=cfg,file_path=f'/Users/Lorenzo/Documents/Dottorato/PSG/PSG4Mars/data/cfg/{gname}_{lat}_{long}_{res}_cfg.txt')"
   ]
  },
  {
   "cell_type": "code",
   "execution_count": 9,
   "metadata": {},
   "outputs": [
    {
     "name": "stdout",
     "output_type": "stream",
     "text": [
      "PSG is running at http://localhost:3000/api.php\n",
      "type = lyr\n",
      "Input file: /Users/Lorenzo/Documents/Dottorato/PSG/PSG4Mars/data/cfg/H2O_0_0_0.01_cfg.txt\n",
      "Output file: ../data/lyr/H2O_0_0_0.01_lyr.txt\n",
      "PSG is running at http://localhost:3000/api.php\n",
      "type = lyo\n",
      "Input file: /Users/Lorenzo/Documents/Dottorato/PSG/PSG4Mars/data/cfg/H2O_0_0_0.01_cfg.txt\n",
      "Output file: ../data/lyo/H2O_0_0_0.01_lyo.txt\n"
     ]
    }
   ],
   "source": [
    "cfg = cfg_io.read_cfg(file_path=f'/Users/Lorenzo/Documents/Dottorato/PSG/PSG4Mars/data/cfg/atmos_{lat}_{long}_cfg.txt')\n",
    "\n",
    "gname = 'H2O'\n",
    "gg = atm_obj.gas(name=gname,abun=1,unit='scl')\n",
    "cfg['ATMOSPHERE-GAS'] = gg.name\n",
    "cfg['ATMOSPHERE-UNIT'] = gg.unit\n",
    "cfg['ATMOSPHERE-ABUN'] = gg.abun\n",
    "cfg['ATMOSPHERE-TYPE'] = gg.code\n",
    "cfg['ATMOSPHERE-NGAS'] = 1\n",
    "\n",
    "cfg['ATMOSPHERE-AEROS'] = ''\n",
    "cfg['ATMOSPHERE-AUNIT'] = ''\n",
    "cfg['ATMOSPHERE-AABUN'] = ''\n",
    "cfg['ATMOSPHERE-ASIZE'] = ''\n",
    "cfg['ATMOSPHERE-ASUNI'] = ''\n",
    "cfg['ATMOSPHERE-NAERO'] = 0\n",
    "cfg['ATMOSPHERE-ATYPE'] = ''\n",
    "\n",
    "cfg['ATMOSPHERE-CONTINUUM'] = 'Refraction,Layering'\n",
    "\n",
    "#set spectral limits\n",
    "res = 1e-2\n",
    "cfg['GENERATOR-RANGE1'] = 650\n",
    "cfg['GENERATOR-RANGE2'] = 700\n",
    "cfg['GENERATOR-RESOLUTION'] = res\n",
    "\n",
    "cfg_io.dict_to_cfg(dictionary=cfg,file_path=f'/Users/Lorenzo/Documents/Dottorato/PSG/PSG4Mars/data/cfg/{gname}_{lat}_{long}_{res}_cfg.txt')\n",
    "\n",
    "run_psg.run_psg(cfg_file=f'/Users/Lorenzo/Documents/Dottorato/PSG/PSG4Mars/data/cfg/{gname}_{lat}_{long}_{res}_cfg.txt', \n",
    "                type='lyr', out_file=f'../data/lyr/{gname}_{lat}_{long}_{res}_lyr.txt')\n",
    "run_psg.run_psg(cfg_file=f'/Users/Lorenzo/Documents/Dottorato/PSG/PSG4Mars/data/cfg/{gname}_{lat}_{long}_{res}_cfg.txt',\n",
    "                type='lyo', out_file=f'../data/lyo/{gname}_{lat}_{long}_{res}_lyo.txt')"
   ]
  },
  {
   "cell_type": "code",
   "execution_count": null,
   "metadata": {},
   "outputs": [],
   "source": []
  },
  {
   "cell_type": "code",
   "execution_count": null,
   "metadata": {},
   "outputs": [],
   "source": []
  }
 ],
 "metadata": {
  "kernelspec": {
   "display_name": "base",
   "language": "python",
   "name": "python3"
  },
  "language_info": {
   "codemirror_mode": {
    "name": "ipython",
    "version": 3
   },
   "file_extension": ".py",
   "mimetype": "text/x-python",
   "name": "python",
   "nbconvert_exporter": "python",
   "pygments_lexer": "ipython3",
   "version": "3.12.4"
  }
 },
 "nbformat": 4,
 "nbformat_minor": 2
}
