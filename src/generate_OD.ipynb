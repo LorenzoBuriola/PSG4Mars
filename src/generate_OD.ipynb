{
 "cells": [
  {
   "cell_type": "code",
   "execution_count": 1,
   "metadata": {},
   "outputs": [],
   "source": [
    "import numpy as np\n",
    "import pandas as pd\n",
    "import matplotlib.pyplot as plt"
   ]
  },
  {
   "cell_type": "code",
   "execution_count": 2,
   "metadata": {},
   "outputs": [],
   "source": [
    "import pypsg.cfg as cfg\n",
    "from pypsg.run_psg import run_psg"
   ]
  },
  {
   "cell_type": "code",
   "execution_count": 3,
   "metadata": {},
   "outputs": [],
   "source": [
    "gas_list = ['CO2','CO','H2O','O3']\n",
    "res_list = [0.01, 0.0001]"
   ]
  },
  {
   "cell_type": "code",
   "execution_count": 4,
   "metadata": {},
   "outputs": [],
   "source": [
    "file_path = '../data/cfg/prova_co2_cfg.txt'\n",
    "cfg = cfg_io.read_cfg(file_path=file_path)"
   ]
  },
  {
   "cell_type": "code",
   "execution_count": 5,
   "metadata": {},
   "outputs": [],
   "source": [
    "path = '/Users/Lorenzo/Documents/Dottorato/PSG/PSG4Mars/data/cfg/'\n",
    "for g_name in gas_list:\n",
    "    for res in res_list:\n",
    "        gg = atm_obj.gas(name=g_name,abun=1,unit='scl')\n",
    "        cfg['ATMOSPHERE-GAS'] = gg.name\n",
    "        cfg['ATMOSPHERE-UNIT'] = gg.unit\n",
    "        cfg['ATMOSPHERE-ABUN'] = gg.abun\n",
    "        cfg['ATMOSPHERE-TYPE'] = gg.code\n",
    "        cfg['GENERATOR-RESOLUTION'] = res\n",
    "        cfg_io.dict_to_cfg(dictionary=cfg,file_path=f'{path}{g_name}_{res}_cfg.txt')"
   ]
  },
  {
   "cell_type": "code",
   "execution_count": 20,
   "metadata": {},
   "outputs": [
    {
     "data": {
      "text/plain": [
       "array([ 100.  ,  111.11,  125.  ,  142.86,  166.67,  200.  ,  250.  ,\n",
       "        333.33,  500.  , 1000.  , 2000.  ])"
      ]
     },
     "execution_count": 20,
     "metadata": {},
     "output_type": "execute_result"
    }
   ],
   "source": [
    "ll = np.array([100,90,80,70,60,50,40,30,20,10,5])\n",
    "ff = np.round(1e4/ll,2)\n",
    "ff"
   ]
  },
  {
   "cell_type": "code",
   "execution_count": 24,
   "metadata": {},
   "outputs": [],
   "source": [
    "ff = np.array([100,200,500,1000,2000])"
   ]
  },
  {
   "cell_type": "code",
   "execution_count": 26,
   "metadata": {},
   "outputs": [
    {
     "name": "stdout",
     "output_type": "stream",
     "text": [
      "PSG is running at http://localhost:3000/api.php\n",
      "type = lyo\n",
      "Input file: /Users/Lorenzo/Documents/Dottorato/PSG/PSG4Mars/data/cfg/CO2_0.01_cfg.txt\n",
      "Output file: ../data/lyo/CO2_0.01_lyo_100-200.txt\n",
      "PSG is running at http://localhost:3000/api.php\n",
      "type = lyo\n",
      "Input file: /Users/Lorenzo/Documents/Dottorato/PSG/PSG4Mars/data/cfg/CO2_0.01_cfg.txt\n",
      "Output file: ../data/lyo/CO2_0.01_lyo_200-500.txt\n",
      "PSG is running at http://localhost:3000/api.php\n",
      "type = lyo\n",
      "Input file: /Users/Lorenzo/Documents/Dottorato/PSG/PSG4Mars/data/cfg/CO2_0.01_cfg.txt\n",
      "Output file: ../data/lyo/CO2_0.01_lyo_500-1000.txt\n",
      "PSG is running at http://localhost:3000/api.php\n",
      "type = lyo\n",
      "Input file: /Users/Lorenzo/Documents/Dottorato/PSG/PSG4Mars/data/cfg/CO2_0.01_cfg.txt\n",
      "Output file: ../data/lyo/CO2_0.01_lyo_1000-2000.txt\n"
     ]
    }
   ],
   "source": [
    "path = '/Users/Lorenzo/Documents/Dottorato/PSG/PSG4Mars/data/cfg/CO2_0.01_cfg.txt'\n",
    "cfg = cfg_io.read_cfg(file_path=path)\n",
    "\n",
    "for i in range(len(ff)-1):\n",
    "    cfg['GENERATOR-RANGE1'] = ff[i]\n",
    "    cfg['GENERATOR-RANGE2'] = ff[i+1]\n",
    "    cfg_io.dict_to_cfg(dictionary=cfg,file_path=path)\n",
    "    run_psg.run_psg(cfg_file=path, type='lyo', out_file=f'../data/lyo/CO2_0.01_lyo_{ff[i]}-{ff[i+1]}.txt')"
   ]
  },
  {
   "cell_type": "code",
   "execution_count": 27,
   "metadata": {},
   "outputs": [
    {
     "name": "stdout",
     "output_type": "stream",
     "text": [
      "PSG is running at http://localhost:3000/api.php\n",
      "type = lyo\n",
      "Input file: /Users/Lorenzo/Documents/Dottorato/PSG/PSG4Mars/data/cfg/H2O_0.01_cfg.txt\n",
      "Output file: ../data/lyo/H2O_0.01_lyo_100-200.txt\n",
      "PSG is running at http://localhost:3000/api.php\n",
      "type = lyo\n",
      "Input file: /Users/Lorenzo/Documents/Dottorato/PSG/PSG4Mars/data/cfg/H2O_0.01_cfg.txt\n",
      "Output file: ../data/lyo/H2O_0.01_lyo_200-500.txt\n",
      "PSG is running at http://localhost:3000/api.php\n",
      "type = lyo\n",
      "Input file: /Users/Lorenzo/Documents/Dottorato/PSG/PSG4Mars/data/cfg/H2O_0.01_cfg.txt\n",
      "Output file: ../data/lyo/H2O_0.01_lyo_500-1000.txt\n",
      "PSG is running at http://localhost:3000/api.php\n",
      "type = lyo\n",
      "Input file: /Users/Lorenzo/Documents/Dottorato/PSG/PSG4Mars/data/cfg/H2O_0.01_cfg.txt\n",
      "Output file: ../data/lyo/H2O_0.01_lyo_1000-2000.txt\n"
     ]
    }
   ],
   "source": [
    "path = '/Users/Lorenzo/Documents/Dottorato/PSG/PSG4Mars/data/cfg/H2O_0.01_cfg.txt'\n",
    "cfg = cfg_io.read_cfg(file_path=path)\n",
    "\n",
    "for i in range(len(ff)-1):\n",
    "    cfg['GENERATOR-RANGE1'] = ff[i]\n",
    "    cfg['GENERATOR-RANGE2'] = ff[i+1]\n",
    "    cfg_io.dict_to_cfg(dictionary=cfg,file_path=path)\n",
    "    run_psg.run_psg(cfg_file=path, type='lyo', out_file=f'../data/lyo/H2O_0.01_lyo_{ff[i]}-{ff[i+1]}.txt')"
   ]
  },
  {
   "cell_type": "code",
   "execution_count": 25,
   "metadata": {},
   "outputs": [
    {
     "name": "stdout",
     "output_type": "stream",
     "text": [
      "PSG is running at http://localhost:3000/api.php\n",
      "type = lyo\n",
      "Input file: /Users/Lorenzo/Documents/Dottorato/PSG/PSG4Mars/data/cfg/CO_0.01_cfg.txt\n",
      "Output file: ../data/lyo/CO_0.01_lyo_100-200.txt\n",
      "PSG is running at http://localhost:3000/api.php\n",
      "type = lyo\n",
      "Input file: /Users/Lorenzo/Documents/Dottorato/PSG/PSG4Mars/data/cfg/CO_0.01_cfg.txt\n",
      "Output file: ../data/lyo/CO_0.01_lyo_200-500.txt\n",
      "PSG is running at http://localhost:3000/api.php\n",
      "type = lyo\n",
      "Input file: /Users/Lorenzo/Documents/Dottorato/PSG/PSG4Mars/data/cfg/CO_0.01_cfg.txt\n",
      "Output file: ../data/lyo/CO_0.01_lyo_500-1000.txt\n",
      "PSG is running at http://localhost:3000/api.php\n",
      "type = lyo\n",
      "Input file: /Users/Lorenzo/Documents/Dottorato/PSG/PSG4Mars/data/cfg/CO_0.01_cfg.txt\n",
      "Output file: ../data/lyo/CO_0.01_lyo_1000-2000.txt\n"
     ]
    }
   ],
   "source": [
    "path = '/Users/Lorenzo/Documents/Dottorato/PSG/PSG4Mars/data/cfg/CO_0.01_cfg.txt'\n",
    "cfg = cfg_io.read_cfg(file_path=path)\n",
    "\n",
    "for i in range(len(ff)-1):\n",
    "    cfg['GENERATOR-RANGE1'] = ff[i]\n",
    "    cfg['GENERATOR-RANGE2'] = ff[i+1]\n",
    "    cfg_io.dict_to_cfg(dictionary=cfg,file_path=path)\n",
    "    run_psg.run_psg(cfg_file=path, type='lyo', out_file=f'../data/lyo/CO_0.01_lyo_{ff[i]}-{ff[i+1]}.txt')"
   ]
  },
  {
   "cell_type": "code",
   "execution_count": 28,
   "metadata": {},
   "outputs": [
    {
     "name": "stdout",
     "output_type": "stream",
     "text": [
      "PSG is running at http://localhost:3000/api.php\n",
      "type = lyo\n",
      "Input file: /Users/Lorenzo/Documents/Dottorato/PSG/PSG4Mars/data/cfg/O3_0.01_cfg.txt\n",
      "Output file: ../data/lyo/O3_0.01_lyo_100-200.txt\n",
      "PSG is running at http://localhost:3000/api.php\n",
      "type = lyo\n",
      "Input file: /Users/Lorenzo/Documents/Dottorato/PSG/PSG4Mars/data/cfg/O3_0.01_cfg.txt\n",
      "Output file: ../data/lyo/O3_0.01_lyo_200-500.txt\n",
      "PSG is running at http://localhost:3000/api.php\n",
      "type = lyo\n",
      "Input file: /Users/Lorenzo/Documents/Dottorato/PSG/PSG4Mars/data/cfg/O3_0.01_cfg.txt\n",
      "Output file: ../data/lyo/O3_0.01_lyo_500-1000.txt\n",
      "PSG is running at http://localhost:3000/api.php\n",
      "type = lyo\n",
      "Input file: /Users/Lorenzo/Documents/Dottorato/PSG/PSG4Mars/data/cfg/O3_0.01_cfg.txt\n",
      "Output file: ../data/lyo/O3_0.01_lyo_1000-2000.txt\n"
     ]
    }
   ],
   "source": [
    "path = '/Users/Lorenzo/Documents/Dottorato/PSG/PSG4Mars/data/cfg/O3_0.01_cfg.txt'\n",
    "cfg = cfg_io.read_cfg(file_path=path)\n",
    "\n",
    "for i in range(len(ff)-1):\n",
    "    cfg['GENERATOR-RANGE1'] = ff[i]\n",
    "    cfg['GENERATOR-RANGE2'] = ff[i+1]\n",
    "    cfg_io.dict_to_cfg(dictionary=cfg,file_path=path)\n",
    "    run_psg.run_psg(cfg_file=path, type='lyo', out_file=f'../data/lyo/O3_0.01_lyo_{ff[i]}-{ff[i+1]}.txt')"
   ]
  },
  {
   "cell_type": "code",
   "execution_count": 16,
   "metadata": {},
   "outputs": [
    {
     "name": "stdout",
     "output_type": "stream",
     "text": [
      "PSG is running at http://localhost:3000/api.php\n",
      "type = rad\n",
      "Input file: /Users/Lorenzo/Documents/Dottorato/PSG/PSG4Mars/data/cfg/CO2_0.01_cfg.txt\n",
      "Output file: temp.txt\n"
     ]
    }
   ],
   "source": [
    "run_psg.run_psg(cfg_file=path)"
   ]
  },
  {
   "cell_type": "code",
   "execution_count": 17,
   "metadata": {},
   "outputs": [
    {
     "name": "stdout",
     "output_type": "stream",
     "text": [
      "PSG is running at http://localhost:3000/api.php\n",
      "type = lyo\n",
      "Input file: /Users/Lorenzo/Documents/Dottorato/PSG/PSG4Mars/data/cfg/CO2_0.01_cfg.txt\n",
      "Output file: ../data/lyo/CO2_0.01_lyo_prova.txt\n"
     ]
    }
   ],
   "source": [
    "run_psg.run_psg(cfg_file=path, type='lyo', out_file='../data/lyo/CO2_0.01_lyo_prova.txt')"
   ]
  },
  {
   "cell_type": "code",
   "execution_count": 7,
   "metadata": {},
   "outputs": [
    {
     "name": "stdout",
     "output_type": "stream",
     "text": [
      "PSG is running at http://localhost:3000/api.php\n",
      "type = lyo\n",
      "Input file: /Users/Lorenzo/Documents/Dottorato/PSG/PSG4Mars/data/cfg/CO2_0.01_cfg.txt\n",
      "Output file: ../data/lyo/CO2_0.01_lyo.txt\n"
     ]
    }
   ],
   "source": [
    "run_psg.run_psg(cfg_file=f'{path}CO2_0.01_cfg.txt', type='lyo', out_file='../data/lyo/CO2_0.01_lyo.txt')"
   ]
  },
  {
   "cell_type": "code",
   "execution_count": 8,
   "metadata": {},
   "outputs": [
    {
     "name": "stdout",
     "output_type": "stream",
     "text": [
      "PSG is running at http://localhost:3000/api.php\n",
      "type = lyo\n",
      "Input file: /Users/Lorenzo/Documents/Dottorato/PSG/PSG4Mars/data/cfg/CO2_0.0001_cfg.txt\n",
      "Output file: ../data/lyo/CO2_0.0001_lyo.txt\n"
     ]
    }
   ],
   "source": [
    "run_psg.run_psg(cfg_file=f'{path}CO2_0.0001_cfg.txt', type='lyo', out_file='../data/lyo/CO2_0.0001_lyo.txt')"
   ]
  },
  {
   "cell_type": "code",
   "execution_count": 9,
   "metadata": {},
   "outputs": [],
   "source": [
    "from utils import read_out"
   ]
  },
  {
   "cell_type": "code",
   "execution_count": 10,
   "metadata": {},
   "outputs": [],
   "source": [
    "df_04 = read_out('../data/lyo/CO2_0.4_lyo.txt')"
   ]
  },
  {
   "cell_type": "code",
   "execution_count": 11,
   "metadata": {},
   "outputs": [
    {
     "data": {
      "text/html": [
       "<div>\n",
       "<style scoped>\n",
       "    .dataframe tbody tr th:only-of-type {\n",
       "        vertical-align: middle;\n",
       "    }\n",
       "\n",
       "    .dataframe tbody tr th {\n",
       "        vertical-align: top;\n",
       "    }\n",
       "\n",
       "    .dataframe thead th {\n",
       "        text-align: right;\n",
       "    }\n",
       "</style>\n",
       "<table border=\"1\" class=\"dataframe\">\n",
       "  <thead>\n",
       "    <tr style=\"text-align: right;\">\n",
       "      <th></th>\n",
       "      <th>freq</th>\n",
       "      <th>0.0000e+00</th>\n",
       "      <th>2.2840e-01</th>\n",
       "      <th>2.5047e-01</th>\n",
       "      <th>3.0939e-01</th>\n",
       "      <th>4.3800e-01</th>\n",
       "      <th>6.7875e-01</th>\n",
       "      <th>1.0832e+00</th>\n",
       "      <th>1.7119e+00</th>\n",
       "      <th>2.6331e+00</th>\n",
       "      <th>...</th>\n",
       "      <th>1.4797e+02</th>\n",
       "      <th>1.5656e+02</th>\n",
       "      <th>1.6571e+02</th>\n",
       "      <th>1.7548e+02</th>\n",
       "      <th>1.8603e+02</th>\n",
       "      <th>1.9766e+02</th>\n",
       "      <th>2.1078e+02</th>\n",
       "      <th>2.2597e+02</th>\n",
       "      <th>2.4401e+02</th>\n",
       "      <th>2.6617e+02</th>\n",
       "    </tr>\n",
       "  </thead>\n",
       "  <tbody>\n",
       "    <tr>\n",
       "      <th>0</th>\n",
       "      <td>700.0</td>\n",
       "      <td>759.4900</td>\n",
       "      <td>661.0400</td>\n",
       "      <td>650.49000</td>\n",
       "      <td>641.08000</td>\n",
       "      <td>626.71000</td>\n",
       "      <td>604.56000</td>\n",
       "      <td>572.59000</td>\n",
       "      <td>534.63000</td>\n",
       "      <td>489.50000</td>\n",
       "      <td>...</td>\n",
       "      <td>5.873900e-06</td>\n",
       "      <td>2.836300e-06</td>\n",
       "      <td>1.289100e-06</td>\n",
       "      <td>5.532400e-07</td>\n",
       "      <td>2.219600e-07</td>\n",
       "      <td>8.156200e-08</td>\n",
       "      <td>2.663600e-08</td>\n",
       "      <td>7.430500e-09</td>\n",
       "      <td>1.711400e-09</td>\n",
       "      <td>NaN</td>\n",
       "    </tr>\n",
       "    <tr>\n",
       "      <th>1</th>\n",
       "      <td>699.6</td>\n",
       "      <td>32.3620</td>\n",
       "      <td>24.1730</td>\n",
       "      <td>23.45900</td>\n",
       "      <td>22.95600</td>\n",
       "      <td>22.27600</td>\n",
       "      <td>21.30100</td>\n",
       "      <td>19.96600</td>\n",
       "      <td>18.61000</td>\n",
       "      <td>17.16400</td>\n",
       "      <td>...</td>\n",
       "      <td>1.494400e-07</td>\n",
       "      <td>7.605900e-08</td>\n",
       "      <td>3.544600e-08</td>\n",
       "      <td>1.538900e-08</td>\n",
       "      <td>6.207200e-09</td>\n",
       "      <td>2.286400e-09</td>\n",
       "      <td>3.162600e-21</td>\n",
       "      <td>4.366900e-22</td>\n",
       "      <td>4.963500e-23</td>\n",
       "      <td>NaN</td>\n",
       "    </tr>\n",
       "    <tr>\n",
       "      <th>2</th>\n",
       "      <td>699.2</td>\n",
       "      <td>0.7147</td>\n",
       "      <td>0.5569</td>\n",
       "      <td>0.54275</td>\n",
       "      <td>0.53005</td>\n",
       "      <td>0.51069</td>\n",
       "      <td>0.48133</td>\n",
       "      <td>0.44012</td>\n",
       "      <td>0.39276</td>\n",
       "      <td>0.33964</td>\n",
       "      <td>...</td>\n",
       "      <td>5.467400e-17</td>\n",
       "      <td>1.302200e-17</td>\n",
       "      <td>2.920500e-18</td>\n",
       "      <td>6.216700e-19</td>\n",
       "      <td>1.237600e-19</td>\n",
       "      <td>1.934700e-20</td>\n",
       "      <td>2.474500e-21</td>\n",
       "      <td>3.413500e-22</td>\n",
       "      <td>3.877500e-23</td>\n",
       "      <td>NaN</td>\n",
       "    </tr>\n",
       "    <tr>\n",
       "      <th>3</th>\n",
       "      <td>698.8</td>\n",
       "      <td>50.7430</td>\n",
       "      <td>33.6870</td>\n",
       "      <td>32.34200</td>\n",
       "      <td>31.47300</td>\n",
       "      <td>30.36300</td>\n",
       "      <td>28.82900</td>\n",
       "      <td>26.79700</td>\n",
       "      <td>24.93100</td>\n",
       "      <td>23.11100</td>\n",
       "      <td>...</td>\n",
       "      <td>1.596700e-07</td>\n",
       "      <td>8.331600e-08</td>\n",
       "      <td>3.783500e-08</td>\n",
       "      <td>1.658500e-08</td>\n",
       "      <td>6.719100e-09</td>\n",
       "      <td>5.999500e-20</td>\n",
       "      <td>9.662200e-21</td>\n",
       "      <td>1.336800e-21</td>\n",
       "      <td>1.526500e-22</td>\n",
       "      <td>NaN</td>\n",
       "    </tr>\n",
       "    <tr>\n",
       "      <th>4</th>\n",
       "      <td>698.4</td>\n",
       "      <td>1034.2000</td>\n",
       "      <td>926.0700</td>\n",
       "      <td>913.67000</td>\n",
       "      <td>901.65000</td>\n",
       "      <td>882.63000</td>\n",
       "      <td>852.82000</td>\n",
       "      <td>809.22000</td>\n",
       "      <td>755.72000</td>\n",
       "      <td>690.86000</td>\n",
       "      <td>...</td>\n",
       "      <td>8.744200e-06</td>\n",
       "      <td>4.180100e-06</td>\n",
       "      <td>1.890900e-06</td>\n",
       "      <td>8.096800e-07</td>\n",
       "      <td>3.245200e-07</td>\n",
       "      <td>1.191900e-07</td>\n",
       "      <td>3.891700e-08</td>\n",
       "      <td>1.085500e-08</td>\n",
       "      <td>2.500100e-09</td>\n",
       "      <td>NaN</td>\n",
       "    </tr>\n",
       "  </tbody>\n",
       "</table>\n",
       "<p>5 rows × 51 columns</p>\n",
       "</div>"
      ],
      "text/plain": [
       "    freq  0.0000e+00  2.2840e-01  2.5047e-01  3.0939e-01  4.3800e-01  \\\n",
       "0  700.0    759.4900    661.0400   650.49000   641.08000   626.71000   \n",
       "1  699.6     32.3620     24.1730    23.45900    22.95600    22.27600   \n",
       "2  699.2      0.7147      0.5569     0.54275     0.53005     0.51069   \n",
       "3  698.8     50.7430     33.6870    32.34200    31.47300    30.36300   \n",
       "4  698.4   1034.2000    926.0700   913.67000   901.65000   882.63000   \n",
       "\n",
       "   6.7875e-01  1.0832e+00  1.7119e+00  2.6331e+00  ...    1.4797e+02  \\\n",
       "0   604.56000   572.59000   534.63000   489.50000  ...  5.873900e-06   \n",
       "1    21.30100    19.96600    18.61000    17.16400  ...  1.494400e-07   \n",
       "2     0.48133     0.44012     0.39276     0.33964  ...  5.467400e-17   \n",
       "3    28.82900    26.79700    24.93100    23.11100  ...  1.596700e-07   \n",
       "4   852.82000   809.22000   755.72000   690.86000  ...  8.744200e-06   \n",
       "\n",
       "     1.5656e+02    1.6571e+02    1.7548e+02    1.8603e+02    1.9766e+02  \\\n",
       "0  2.836300e-06  1.289100e-06  5.532400e-07  2.219600e-07  8.156200e-08   \n",
       "1  7.605900e-08  3.544600e-08  1.538900e-08  6.207200e-09  2.286400e-09   \n",
       "2  1.302200e-17  2.920500e-18  6.216700e-19  1.237600e-19  1.934700e-20   \n",
       "3  8.331600e-08  3.783500e-08  1.658500e-08  6.719100e-09  5.999500e-20   \n",
       "4  4.180100e-06  1.890900e-06  8.096800e-07  3.245200e-07  1.191900e-07   \n",
       "\n",
       "     2.1078e+02    2.2597e+02    2.4401e+02  2.6617e+02  \n",
       "0  2.663600e-08  7.430500e-09  1.711400e-09         NaN  \n",
       "1  3.162600e-21  4.366900e-22  4.963500e-23         NaN  \n",
       "2  2.474500e-21  3.413500e-22  3.877500e-23         NaN  \n",
       "3  9.662200e-21  1.336800e-21  1.526500e-22         NaN  \n",
       "4  3.891700e-08  1.085500e-08  2.500100e-09         NaN  \n",
       "\n",
       "[5 rows x 51 columns]"
      ]
     },
     "execution_count": 11,
     "metadata": {},
     "output_type": "execute_result"
    }
   ],
   "source": [
    "df_04.head()"
   ]
  },
  {
   "cell_type": "code",
   "execution_count": null,
   "metadata": {},
   "outputs": [],
   "source": []
  }
 ],
 "metadata": {
  "kernelspec": {
   "display_name": "base",
   "language": "python",
   "name": "python3"
  },
  "language_info": {
   "codemirror_mode": {
    "name": "ipython",
    "version": 3
   },
   "file_extension": ".py",
   "mimetype": "text/x-python",
   "name": "python",
   "nbconvert_exporter": "python",
   "pygments_lexer": "ipython3",
   "version": "3.11.5"
  }
 },
 "nbformat": 4,
 "nbformat_minor": 2
}
