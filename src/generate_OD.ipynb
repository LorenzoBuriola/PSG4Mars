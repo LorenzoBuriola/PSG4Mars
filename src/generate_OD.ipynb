{
 "cells": [
  {
   "cell_type": "code",
   "execution_count": 6,
   "metadata": {},
   "outputs": [],
   "source": [
    "import numpy as np\n",
    "import pypsg.cfg as cfg\n",
    "import pypsg.atm_obj as atm"
   ]
  },
  {
   "cell_type": "code",
   "execution_count": 7,
   "metadata": {},
   "outputs": [],
   "source": [
    "gas_list = ['CO2','CO','H2O','O3']\n",
    "res = 1e-4"
   ]
  },
  {
   "cell_type": "code",
   "execution_count": 8,
   "metadata": {},
   "outputs": [],
   "source": [
    "cfg_path = '/home/buriola/PSG/PSG4Mars/data/cfg/'\n",
    "cfg_dict = cfg.read_cfg(f'{cfg_path}mean_cfg.txt')"
   ]
  },
  {
   "cell_type": "code",
   "execution_count": 9,
   "metadata": {},
   "outputs": [],
   "source": [
    "ranges = np.arange(100,2450,50)"
   ]
  },
  {
   "cell_type": "code",
   "execution_count": 10,
   "metadata": {},
   "outputs": [],
   "source": [
    "for g_name in gas_list:\n",
    "    temp = cfg_dict.copy()\n",
    "    atmos = atm.atmosphere()\n",
    "    atmos.get_atmosphere(temp)\n",
    "    atmos.add_gas(g_name)\n",
    "    atmos.continuum_list = ['Refraction', 'Layering', 'Contributions']\n",
    "    atmos.edit_cfg(temp)\n",
    "    cfg.dict_to_cfg(dictionary=temp,file_path=f'{cfg_path}/OD_gen/{g_name}_cfg.txt')"
   ]
  },
  {
   "cell_type": "code",
   "execution_count": null,
   "metadata": {},
   "outputs": [],
   "source": []
  }
 ],
 "metadata": {
  "kernelspec": {
   "display_name": "base",
   "language": "python",
   "name": "python3"
  },
  "language_info": {
   "codemirror_mode": {
    "name": "ipython",
    "version": 3
   },
   "file_extension": ".py",
   "mimetype": "text/x-python",
   "name": "python",
   "nbconvert_exporter": "python",
   "pygments_lexer": "ipython3",
   "version": "3.12.2"
  }
 },
 "nbformat": 4,
 "nbformat_minor": 2
}
