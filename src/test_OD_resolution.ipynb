{
 "cells": [
  {
   "cell_type": "markdown",
   "metadata": {},
   "source": [
    "# Test Notebook for generate OD at different resolution"
   ]
  },
  {
   "cell_type": "code",
   "execution_count": 1,
   "metadata": {},
   "outputs": [],
   "source": [
    "# Needed function and packages\n",
    "import pypsg.cfg as cfg\n",
    "from pypsg.run_psg import run_psg\n",
    "from pypsg.utils import name_file\n",
    "from pypsg.atm_obj import atmosphere"
   ]
  },
  {
   "cell_type": "markdown",
   "metadata": {},
   "source": [
    "A `basic_cfg.txt` file is used to set the common settings"
   ]
  },
  {
   "cell_type": "code",
   "execution_count": 2,
   "metadata": {},
   "outputs": [],
   "source": [
    "cfg_path = '/home/buriola/PSG/PSG4Mars/data/cfg/'\n",
    "cfg_df = cfg.read_cfg(file_path=f'{cfg_path}basic_cfg.txt')"
   ]
  },
  {
   "cell_type": "markdown",
   "metadata": {},
   "source": [
    "Important settings for the run are:\n",
    "* Latitude\n",
    "* Longitude\n",
    "* Date\n",
    "* Starting Frequency\n",
    "* Ending Frequency\n",
    "* Resolution"
   ]
  },
  {
   "cell_type": "code",
   "execution_count": 3,
   "metadata": {},
   "outputs": [
    {
     "name": "stdout",
     "output_type": "stream",
     "text": [
      "PSG is running at http://localhost:3000/api.php\n",
      "type = cfg\n",
      "Input file: /home/buriola/PSG/PSG4Mars/data/cfg/basic_cfg.txt\n",
      "Output file: /home/buriola/PSG/PSG4Mars/data/cfg/cfg_0_0_20191223-0000.txt\n"
     ]
    }
   ],
   "source": [
    "cfg_df['OBJECT-OBS-LATITUDE'] = lat = 0.\n",
    "cfg_df['OBJECT-OBS-LONGITUDE'] = lon = 0.\n",
    "cfg_df['OBJECT-DATE'] = date = '2019/12/23 00:00'\n",
    "\n",
    "cfg_df['GENERATOR-RANGE1'] = 650\n",
    "cfg_df['GENERATOR-RANGE2'] = 700\n",
    "cfg_df['GENERATOR-RESOLUTION'] = res = 1e-2\n",
    "\n",
    "cfg.dict_to_cfg(dictionary=cfg_df,file_path=f'{cfg_path}basic_cfg.txt')\n",
    "run_psg(cfg_file=f'{cfg_path}basic_cfg.txt',\n",
    "                type='cfg', watm='y', \n",
    "                out_file=f\"{cfg_path}{name_file('cfg', date, lat, lon)}.txt\")"
   ]
  },
  {
   "cell_type": "code",
   "execution_count": 4,
   "metadata": {},
   "outputs": [],
   "source": [
    "cfg_df = cfg.read_cfg(file_path=f\"{cfg_path}{name_file('cfg', date, lat, lon)}.txt\")\n",
    "\n",
    "AA = atmosphere(glist=['CO2'], clist=['Refraction','Layering'])\n",
    "AA.edit_cfg(cfg_df)"
   ]
  },
  {
   "cell_type": "code",
   "execution_count": 6,
   "metadata": {},
   "outputs": [
    {
     "name": "stdout",
     "output_type": "stream",
     "text": [
      "PSG is running at http://localhost:3000/api.php\n",
      "type = lyr\n",
      "Input file: /home/buriola/PSG/PSG4Mars/data/cfg/cfg_0_0_20191223-0000_CO2.txt\n",
      "Output file: ../data/lyr/lyr_0_0_20191223-0000_CO2_0.01.txt\n",
      "PSG is running at http://localhost:3000/api.php\n",
      "type = lyo\n",
      "Input file: /home/buriola/PSG/PSG4Mars/data/cfg/cfg_0_0_20191223-0000_CO2.txt\n",
      "Output file: ../data/lyo/lyo_0_0_20191223-0000_CO2_0.01.txt\n",
      "PSG is running at http://localhost:3000/api.php\n",
      "type = lyr\n",
      "Input file: /home/buriola/PSG/PSG4Mars/data/cfg/cfg_0_0_20191223-0000_CO2.txt\n",
      "Output file: ../data/lyr/lyr_0_0_20191223-0000_CO2_0.001.txt\n",
      "PSG is running at http://localhost:3000/api.php\n",
      "type = lyo\n",
      "Input file: /home/buriola/PSG/PSG4Mars/data/cfg/cfg_0_0_20191223-0000_CO2.txt\n",
      "Output file: ../data/lyo/lyo_0_0_20191223-0000_CO2_0.001.txt\n",
      "PSG is running at http://localhost:3000/api.php\n",
      "type = lyr\n",
      "Input file: /home/buriola/PSG/PSG4Mars/data/cfg/cfg_0_0_20191223-0000_CO2.txt\n",
      "Output file: ../data/lyr/lyr_0_0_20191223-0000_CO2_0.0001.txt\n",
      "PSG is running at http://localhost:3000/api.php\n",
      "type = lyo\n",
      "Input file: /home/buriola/PSG/PSG4Mars/data/cfg/cfg_0_0_20191223-0000_CO2.txt\n",
      "Output file: ../data/lyo/lyo_0_0_20191223-0000_CO2_0.0001.txt\n"
     ]
    }
   ],
   "source": [
    "reslist = [1e-2, 1e-3, 1e-4]\n",
    "for res in reslist:\n",
    "    cfg_df['GENERATOR-RESOLUTION'] = res\n",
    "    cfg.dict_to_cfg(cfg_df, file_path=f\"{cfg_path}{name_file('cfg', date, lat, lon)}_CO2.txt\")\n",
    "    run_psg(cfg_file=f\"{cfg_path}{name_file('cfg', date, lat, lon)}_CO2.txt\", \n",
    "                type='lyr', out_file=f\"../data/lyr/{name_file('lyr', date, lat, lon)}_CO2_{res}.txt\")\n",
    "    run_psg(cfg_file=f\"{cfg_path}{name_file('cfg', date, lat, lon)}_CO2.txt\",\n",
    "                type='lyo', out_file=f\"../data/lyo/{name_file('lyo', date, lat, lon)}_CO2_{res}.txt\")\n"
   ]
  },
  {
   "cell_type": "code",
   "execution_count": null,
   "metadata": {},
   "outputs": [],
   "source": []
  }
 ],
 "metadata": {
  "kernelspec": {
   "display_name": "base",
   "language": "python",
   "name": "python3"
  },
  "language_info": {
   "codemirror_mode": {
    "name": "ipython",
    "version": 3
   },
   "file_extension": ".py",
   "mimetype": "text/x-python",
   "name": "python",
   "nbconvert_exporter": "python",
   "pygments_lexer": "ipython3",
   "version": "3.11.5"
  }
 },
 "nbformat": 4,
 "nbformat_minor": 2
}
